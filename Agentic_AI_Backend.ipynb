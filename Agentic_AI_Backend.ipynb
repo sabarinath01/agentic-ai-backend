{
  "nbformat": 4,
  "nbformat_minor": 0,
  "metadata": {
    "colab": {
      "provenance": []
    },
    "kernelspec": {
      "name": "python3",
      "display_name": "Python 3"
    },
    "language_info": {
      "name": "python"
    }
  },
  "cells": [
    {
      "cell_type": "code",
      "source": [
        "import os\n",
        "\n",
        "# 🔑 Replace with your actual API key from https://console.groq.com\n",
        "os.environ[\"GROQ_API_KEY\"] = \"Enter your key\"\n"
      ],
      "metadata": {
        "id": "xQjOOMMKzOaU"
      },
      "execution_count": null,
      "outputs": []
    },
    {
      "cell_type": "code",
      "source": [
        "import requests\n",
        "\n",
        "def ask_groq(prompt, model=\"llama3-70b-8192\"):\n",
        "    url = \"https://api.groq.com/openai/v1/chat/completions\"\n",
        "    headers = {\n",
        "        \"Authorization\": f\"Bearer {os.environ['GROQ_API_KEY']}\",\n",
        "        \"Content-Type\": \"application/json\"\n",
        "    }\n",
        "    data = {\n",
        "        \"model\": model,\n",
        "        \"messages\": [{\"role\": \"user\", \"content\": prompt}],\n",
        "        \"temperature\": 0.5\n",
        "    }\n",
        "    response = requests.post(url, headers=headers, json=data)\n",
        "\n",
        "    if \"choices\" not in response.json():\n",
        "        print(\"❌ Error from Groq:\")\n",
        "        print(response.json())\n",
        "        return \"\"\n",
        "\n",
        "    return response.json()[\"choices\"][0][\"message\"][\"content\"]\n"
      ],
      "metadata": {
        "id": "IqC4qYUVdIXT"
      },
      "execution_count": null,
      "outputs": []
    },
    {
      "cell_type": "code",
      "source": [
        "prompt = \"Give Python code to calculate the sum of the exponentials of the first 6 Fibonacci numbers.\"\n",
        "generated_code = ask_groq(prompt)\n",
        "\n",
        "print(\"🧠 Generated Code:\\n\")\n",
        "print(generated_code)\n"
      ],
      "metadata": {
        "colab": {
          "base_uri": "https://localhost:8080/"
        },
        "id": "9lLeogpfcgkp",
        "outputId": "d02eaf88-76be-4981-eae9-18a49c9077e3"
      },
      "execution_count": null,
      "outputs": [
        {
          "output_type": "stream",
          "name": "stdout",
          "text": [
            "🧠 Generated Code:\n",
            "\n",
            "Here is a Python code to calculate the sum of the exponentials of the first 6 Fibonacci numbers:\n",
            "\n",
            "```Python\n",
            "import math\n",
            "\n",
            "def fibonacci(n):\n",
            "    fib_sequence = [0, 1]\n",
            "    while len(fib_sequence) < n:\n",
            "        fib_sequence.append(fib_sequence[-1] + fib_sequence[-2])\n",
            "    return fib_sequence\n",
            "\n",
            "def sum_of_exponentials(fib_sequence):\n",
            "    return sum(math.exp(x) for x in fib_sequence)\n",
            "\n",
            "fib_numbers = fibonacci(6)\n",
            "result = sum_of_exponentials(fib_numbers)\n",
            "print(\"The sum of the exponentials of the first 6 Fibonacci numbers is: \", result)\n",
            "```\n",
            "\n",
            "This code first defines a function `fibonacci(n)` to generate the first `n` Fibonacci numbers. Then it defines a function `sum_of_exponentials(fib_sequence)` to calculate the sum of the exponentials of the Fibonacci numbers. Finally, it generates the first 6 Fibonacci numbers, calculates the sum of their exponentials, and prints the result.\n"
          ]
        }
      ]
    },
    {
      "cell_type": "code",
      "source": [
        "prompt = \"Give Track stock price and notify if it crosses a value.\"\n",
        "generated_code = ask_groq(prompt, model=\"llama3-8b-8192\")  # ✅ Updated model\n",
        "\n",
        "if generated_code:\n",
        "    print(\"✅ Generated Code:\\n\")\n",
        "    print(generated_code)\n",
        "else:\n",
        "    print(\"❌ No valid code generated.\")\n"
      ],
      "metadata": {
        "id": "B_Dj4FlicjWD",
        "colab": {
          "base_uri": "https://localhost:8080/"
        },
        "outputId": "8a379744-9f57-451d-b8d1-d88912183c78"
      },
      "execution_count": null,
      "outputs": [
        {
          "output_type": "stream",
          "name": "stdout",
          "text": [
            "✅ Generated Code:\n",
            "\n",
            "I'd be happy to help! To track the stock price of a specific company and notify you if it crosses a certain value, I'll need to know the following information:\n",
            "\n",
            "1. The stock ticker symbol of the company you're interested in (e.g. Apple = AAPL, Amazon = AMZN, etc.)\n",
            "2. The value you want to be notified about (e.g. $100, $200, etc.)\n",
            "3. The notification method you prefer (e.g. email, SMS, etc.)\n",
            "\n",
            "Once I have this information, I can use APIs and data sources to track the stock price and notify you if it crosses the specified value.\n",
            "\n",
            "Please provide the necessary information, and I'll get started!\n",
            "\n",
            "(Note: Please keep in mind that this is a text-based interface, and I won't be able to send actual emails or SMS messages. Any notifications will be through this chat interface.)\n"
          ]
        }
      ]
    },
    {
      "cell_type": "code",
      "source": [
        "prompt = \"wirte a C++ for finding the greatest of 3 numbers\"\n",
        "generated_code = ask_groq(prompt, model=\"llama3-8b-8192\")  # ✅ Updated model\n",
        "\n",
        "if generated_code:\n",
        "    print(\"✅ Generated Code:\\n\")\n",
        "    print(generated_code)\n",
        "else:\n",
        "    print(\"❌ No valid code generated.\")"
      ],
      "metadata": {
        "id": "8Gu2jn0wiuQi",
        "colab": {
          "base_uri": "https://localhost:8080/"
        },
        "outputId": "cb9b87fb-19ff-4a6d-a285-4837b76c40a1"
      },
      "execution_count": null,
      "outputs": [
        {
          "output_type": "stream",
          "name": "stdout",
          "text": [
            "✅ Generated Code:\n",
            "\n",
            "Here is a simple C++ program that finds the greatest of 3 numbers:\n",
            "```\n",
            "#include <iostream>\n",
            "\n",
            "int main() {\n",
            "    int num1, num2, num3;\n",
            "\n",
            "    // Ask the user to input 3 numbers\n",
            "    std::cout << \"Enter the first number: \";\n",
            "    std::cin >> num1;\n",
            "    std::cout << \"Enter the second number: \";\n",
            "    std::cin >> num2;\n",
            "    std::cout << \"Enter the third number: \";\n",
            "    std::cin >> num3;\n",
            "\n",
            "    // Find the greatest of the 3 numbers\n",
            "    if (num1 >= num2 && num1 >= num3) {\n",
            "        std::cout << \"The greatest number is: \" << num1 << std::endl;\n",
            "    } else if (num2 >= num1 && num2 >= num3) {\n",
            "        std::cout << \"The greatest number is: \" << num2 << std::endl;\n",
            "    } else {\n",
            "        std::cout << \"The greatest number is: \" << num3 << std::endl;\n",
            "    }\n",
            "\n",
            "    return 0;\n",
            "}\n",
            "```\n",
            "Here's how the program works:\n",
            "\n",
            "1. We ask the user to input 3 numbers using `std::cin`.\n",
            "2. We use 3 `if` statements to compare the 3 numbers and find the greatest one. We use the `>=` operator to check if a number is greater than or equal to another.\n",
            "3. If the first number is the greatest, we print a message saying so. If not, we check the second number, and if that's not the greatest, we check the third number.\n",
            "4. Finally, we print the greatest number to the console using `std::cout`.\n",
            "\n",
            "You can compile and run this program to test it out!\n"
          ]
        }
      ]
    },
    {
      "cell_type": "code",
      "source": [],
      "metadata": {
        "id": "8r1E4DyCiyoB"
      },
      "execution_count": null,
      "outputs": []
    }
  ]
}